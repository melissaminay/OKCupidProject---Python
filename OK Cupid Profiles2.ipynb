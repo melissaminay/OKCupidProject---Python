{
 "cells": [
  {
   "cell_type": "markdown",
   "id": "7c4a8f6e",
   "metadata": {},
   "source": [
    "# OK Cupid Profiles Analysis"
   ]
  },
  {
   "cell_type": "markdown",
   "id": "cb806d8c",
   "metadata": {},
   "source": [
    "This notebook contains the data cleaning and initial analysis of a dataset that compiles information from OK Cupid user profiles. All visualizations were made for information purposes. Final presentation will be created in Tableau.\n",
    "\n",
    "### Problem Statement: What details can be gleaned from this sample of OK Cupid profiles that can be used to inform marketing targets for represented and underrepresented demographics?"
   ]
  },
  {
   "cell_type": "code",
   "execution_count": 20,
   "id": "9683c238",
   "metadata": {},
   "outputs": [],
   "source": [
    "import matplotlib as mpl\n",
    "import matplotlib.pyplot as plt \n",
    "%matplotlib inline\n",
    "import seaborn as sns\n",
    "import pandas as pd\n",
    "import statsmodels.api as sm"
   ]
  },
  {
   "cell_type": "code",
   "execution_count": 61,
   "id": "389ed149",
   "metadata": {},
   "outputs": [],
   "source": [
    "df = pd.read_csv('Ok Cupid Profiles.csv')"
   ]
  },
  {
   "cell_type": "markdown",
   "id": "17f54c41",
   "metadata": {},
   "source": [
    "Clean the data - add and remove columns, filter rows"
   ]
  },
  {
   "cell_type": "code",
   "execution_count": 62,
   "id": "49f546e6",
   "metadata": {},
   "outputs": [
    {
     "name": "stderr",
     "output_type": "stream",
     "text": [
      "<ipython-input-62-32498fb0c1a9>:41: FutureWarning: The pandas.np module is deprecated and will be removed from pandas in a future version. Import numpy directly instead\n",
      "  df.fillna(value=pd.np.nan, inplace=True)\n"
     ]
    },
    {
     "name": "stdout",
     "output_type": "stream",
     "text": [
      "<class 'pandas.core.frame.DataFrame'>\n",
      "Int64Index: 59855 entries, 0 to 59945\n",
      "Data columns (total 40 columns):\n",
      " #   Column            Non-Null Count  Dtype  \n",
      "---  ------            --------------  -----  \n",
      " 0   age               59855 non-null  int64  \n",
      " 1   body_type         54566 non-null  object \n",
      " 2   diet              35495 non-null  object \n",
      " 3   drinks            56875 non-null  object \n",
      " 4   drugs             45798 non-null  object \n",
      " 5   education         53236 non-null  object \n",
      " 6   ethnicity         59855 non-null  object \n",
      " 7   height            59853 non-null  float64\n",
      " 8   job               51673 non-null  object \n",
      " 9   location          59855 non-null  object \n",
      " 10  offspring         59855 non-null  object \n",
      " 11  orientation       59855 non-null  object \n",
      " 12  pets              59855 non-null  object \n",
      " 13  religion          39663 non-null  object \n",
      " 14  sex               59855 non-null  object \n",
      " 15  sign              48818 non-null  object \n",
      " 16  smokes            54350 non-null  object \n",
      " 17  speaks            59855 non-null  object \n",
      " 18  status            59855 non-null  object \n",
      " 19  num_languages     59855 non-null  int64  \n",
      " 20  num_ethnicity     59855 non-null  int64  \n",
      " 21  city              59855 non-null  object \n",
      " 22  rel_name          39663 non-null  object \n",
      " 23  rel_description   27899 non-null  object \n",
      " 24  sign_name         48818 non-null  object \n",
      " 25  sign_description  36713 non-null  object \n",
      " 26  white             59855 non-null  int64  \n",
      " 27  asian             59855 non-null  int64  \n",
      " 28  black             59855 non-null  int64  \n",
      " 29  hispanic/latin    59855 non-null  int64  \n",
      " 30  native_american   59855 non-null  int64  \n",
      " 31  middle_eastern    59855 non-null  int64  \n",
      " 32  indian            59855 non-null  int64  \n",
      " 33  pacific_islander  59855 non-null  int64  \n",
      " 34  other             59855 non-null  int64  \n",
      " 35  race_ethnicity    59855 non-null  object \n",
      " 36  has_pets          59855 non-null  object \n",
      " 37  likes_pets        59855 non-null  object \n",
      " 38  has_kids          59855 non-null  object \n",
      " 39  wants_kids        59855 non-null  object \n",
      "dtypes: float64(1), int64(12), object(27)\n",
      "memory usage: 18.7+ MB\n",
      "None                 age        height  num_languages  num_ethnicity         white  \\\n",
      "count  59855.000000  59853.000000   59855.000000   59855.000000  59855.000000   \n",
      "mean      32.344265     68.293636       1.850322       1.153488      0.631860   \n",
      "std        9.455280      3.994006       1.036604       0.530440      0.482304   \n",
      "min       18.000000      1.000000       1.000000       1.000000      0.000000   \n",
      "25%       26.000000     66.000000       1.000000       1.000000      0.000000   \n",
      "50%       30.000000     68.000000       2.000000       1.000000      1.000000   \n",
      "75%       37.000000     71.000000       2.000000       1.000000      1.000000   \n",
      "max      110.000000     95.000000       5.000000       9.000000      1.000000   \n",
      "\n",
      "              asian         black  hispanic/latin  native_american  \\\n",
      "count  59855.000000  59855.000000    59855.000000     59855.000000   \n",
      "mean       0.136931      0.055451        0.089349         0.021101   \n",
      "std        0.343777      0.228860        0.285250         0.143722   \n",
      "min        0.000000      0.000000        0.000000         0.000000   \n",
      "25%        0.000000      0.000000        0.000000         0.000000   \n",
      "50%        0.000000      0.000000        0.000000         0.000000   \n",
      "75%        0.000000      0.000000        0.000000         0.000000   \n",
      "max        1.000000      1.000000        1.000000         1.000000   \n",
      "\n",
      "       middle_eastern        indian  pacific_islander         other  \n",
      "count    59855.000000  59855.000000      59855.000000  59855.000000  \n",
      "mean         0.015805      0.024158          0.024543      0.059494  \n",
      "std          0.124721      0.153542          0.154728      0.236549  \n",
      "min          0.000000      0.000000          0.000000      0.000000  \n",
      "25%          0.000000      0.000000          0.000000      0.000000  \n",
      "50%          0.000000      0.000000          0.000000      0.000000  \n",
      "75%          0.000000      0.000000          0.000000      0.000000  \n",
      "max          1.000000      1.000000          1.000000      1.000000  \n"
     ]
    }
   ],
   "source": [
    "#counting languages\n",
    "df['speaks'] = df[\"speaks\"].astype(str)\n",
    "df['num_languages'] = df.speaks.str.strip().str.split(',').apply(len)\n",
    "#counting ethnicity\n",
    "df['ethnicity'] = df[\"ethnicity\"].astype(str)\n",
    "df['num_ethnicity'] = df.ethnicity.str.strip().str.split(',').apply(len)\n",
    "\n",
    "#splitting city/state\n",
    "df['city'] = df.location.str.split(',', expand = True)[0]\n",
    "df['state'] = df.location.str.split(',', expand = True)[1]\n",
    "#splitting religion_name + religion_description\n",
    "df[['rel_name', 'rel_description']] = df['religion'].str.split(' ', 1, expand=True)\n",
    "df['rel_description'] = df['rel_description'].str.lstrip('and ')\n",
    "df['rel_description'] = df['rel_description'].str.lstrip('but ')\n",
    "#splitting sign_name + sign_description\n",
    "df[['sign_name', 'sign_description']] = df['sign'].str.split(' ', 1, expand=True)\n",
    "df['sign_description'] = df['sign_description'].str.lstrip('and ')\n",
    "df['sign_description'] = df['sign_description'].str.lstrip('but ')\n",
    "\n",
    "#remove space from state\n",
    "df.state = df.state.str.lstrip()\n",
    "\n",
    "#create country column that contains country labels\n",
    "def countries(df):\n",
    "    if (df['state'] == 'mexico') or (df['state'] == 'switzerland') \\\n",
    "    or (df['state'] == 'netherlands') or (df['state'] == 'germany') or (df['state'] == 'british columbia')\\\n",
    "    or (df['state'] == 'united kingdom') or (df['state'] == 'ireland') or (df['state'] == 'vietnam')\\\n",
    "    or (df['state'] == 'spain'):\n",
    "        return df['state']\n",
    "    else:\n",
    "        return 'usa'\n",
    "df['country'] = df.apply(countries, axis=1)\n",
    "\n",
    "#drop all rows that are not in usa --> rationale: there are very few (<20) non-usa entries\n",
    "df = df[df.country == 'usa']\n",
    "\n",
    "#drop all rows that are not in california --> rationale: there are very few (<20) non-usa entries\n",
    "df = df[df.state == 'california']\n",
    "\n",
    "#replace all \"None\" with NaN for uniformity\n",
    "df.fillna(value=pd.np.nan, inplace=True)\n",
    "\n",
    "#drop columns --> rationale: essay and income columns did not have quantifiable information,  \n",
    "#                 last_online, country, and state column information was not useful or redundant\n",
    "df = df.drop(columns=['essay0', 'essay1', 'essay2', 'essay3', 'essay4', 'essay5', 'essay6', 'essay7', 'essay8', 'essay9',\\\n",
    "                      'income', 'last_online', 'country', 'state'])\n",
    "\n",
    "#individual race/ethnicity columns\n",
    "#white\n",
    "def white(df):\n",
    "    if ('white' in df['ethnicity']):\n",
    "        return 1\n",
    "    else:\n",
    "        return 0\n",
    "df['white'] = df.apply(white, axis=1)\n",
    "#asian\n",
    "def asian(df):\n",
    "    if ('asian' in df['ethnicity']):\n",
    "        return 1\n",
    "    else:\n",
    "        return 0\n",
    "df['asian'] = df.apply(asian, axis=1)\n",
    "#black\n",
    "def black(df):\n",
    "    if ('black' in df['ethnicity']):\n",
    "        return 1\n",
    "    else:\n",
    "        return 0\n",
    "df['black'] = df.apply(black, axis=1)\n",
    "#hispanic/latin\n",
    "def hispanic(df):\n",
    "    if ('hispanic / latin' in df['ethnicity']):\n",
    "        return 1\n",
    "    else:\n",
    "        return 0\n",
    "df['hispanic/latin'] = df.apply(hispanic, axis=1)\n",
    "#native american\n",
    "def native_american(df):\n",
    "    if ('native american' in df['ethnicity']):\n",
    "        return 1\n",
    "    else:\n",
    "        return 0\n",
    "df['native_american'] = df.apply(native_american, axis=1)\n",
    "#middle eastern\n",
    "def middle_eastern(df):\n",
    "    if ('middle eastern' in df['ethnicity']):\n",
    "        return 1\n",
    "    else:\n",
    "        return 0\n",
    "df['middle_eastern'] = df.apply(middle_eastern, axis=1)\n",
    "#indian\n",
    "def indian(df):\n",
    "    if ('indian' in df['ethnicity']):\n",
    "        return 1\n",
    "    else:\n",
    "        return 0\n",
    "df['indian'] = df.apply(indian, axis=1)\n",
    "#pacific islander\n",
    "def pacific_islander(df):\n",
    "    if ('pacific islander' in df['ethnicity']):\n",
    "        return 1\n",
    "    else:\n",
    "        return 0\n",
    "df['pacific_islander'] = df.apply(pacific_islander, axis=1)\n",
    "#other\n",
    "def other(df):\n",
    "    if ('other' in df['ethnicity']):\n",
    "        return 1\n",
    "    else:\n",
    "        return 0\n",
    "df['other'] = df.apply(other, axis=1)\n",
    "\n",
    "#new race/ethinicty column\n",
    "def race_ethnicity(df):\n",
    "    if (df['white'] + df['asian']) > 1:\n",
    "        return 'Two or More'\n",
    "    elif df['white'] == 1:\n",
    "        return 'white'\n",
    "    elif df['asian'] == 1:\n",
    "        return 'asian'\n",
    "    elif df['black'] == 1:\n",
    "        return 'black'\n",
    "    elif df['hispanic/latin'] == 1:\n",
    "        return 'hispanic/latin'\n",
    "    elif df['native_american'] == 1:\n",
    "        return 'native american'\n",
    "    elif df['middle_eastern'] == 1:\n",
    "        return 'middle eastern'\n",
    "    elif df['indian'] == 1:\n",
    "        return 'indian'\n",
    "    elif df['pacific_islander'] == 1:\n",
    "        return 'pacific islander'\n",
    "    elif df['other'] == 1:\n",
    "        return 'other'\n",
    "    else:\n",
    "        return 'NaN'\n",
    "df['race_ethnicity'] = df.apply(race_ethnicity, axis=1)\n",
    "\n",
    "#pets\n",
    "df['pets'] = df[\"pets\"].astype(str)\n",
    "\n",
    "def has_pets(df):\n",
    "    if 'has dogs' in df['pets']:\n",
    "        return 'has dogs'\n",
    "    elif 'has cats' in df['pets']:\n",
    "        return 'has cats'\n",
    "    elif ('has dogs' in df['pets']) and ('has cats' in df['pets']):\n",
    "        return 'has both dogs and has cats'\n",
    "    elif 'nan' in df['pets']:\n",
    "        return 'No Response'\n",
    "    else:\n",
    "        return 'does not have pets'\n",
    "df['has_pets'] = df.apply(has_pets, axis=1)\n",
    "\n",
    "def likes_pets(df):\n",
    "    if ('likes dogs' in df['pets']) and ('likes cats' in df['pets']):\n",
    "        return 'likes both dogs and cats'\n",
    "    elif ('dislikes dogs' in df['pets']) and ('dislikes cats' in df['pets']):\n",
    "        return 'dislikes both dogs and cats'\n",
    "    elif ('likes dogs' in df['pets']) and ('dislikes cats' in df['pets']):\n",
    "        return 'likes dogs and dislikes cats'\n",
    "    elif ('dislikes dogs' in df['pets']) and ('likes cats' in df['pets']):\n",
    "        return 'dislikes dogs and likes cats'\n",
    "    elif 'likes cats' in df['pets']:\n",
    "        return 'likes cats'\n",
    "    elif 'likes dogs' in df['pets']:\n",
    "        return 'likes dogs'\n",
    "    else:\n",
    "        return 'No Response'\n",
    "df['likes_pets'] = df.apply(likes_pets, axis=1)\n",
    "\n",
    "#kids\n",
    "df['offspring'] = df[\"offspring\"].astype(str)\n",
    "\n",
    "#has kids\n",
    "def has_kids(df):    \n",
    "    if 'has a kid' in df['offspring']:\n",
    "        return 'has a kid'\n",
    "    elif 'has kids' in df['offspring']:\n",
    "        return 'has kids'\n",
    "    elif 'nan' in df['offspring']:\n",
    "        return 'No Response'\n",
    "    else:\n",
    "        return 'does not have kids'\n",
    "df['has_kids'] = df.apply(has_kids, axis=1)\n",
    "df3 = df[['offspring', 'has_kids']]\n",
    "\n",
    "#wants kids\n",
    "def wants_kids(df):    \n",
    "    if ('wants kids' in df['offspring']) or ('wants them' in df['offspring']):\n",
    "        return 'wants kids'\n",
    "    elif ('might want kids' in df['offspring']) or ('might want them' in df['offspring']):\n",
    "        return 'might want kids'\n",
    "    elif ('doesn&rsquo;t want kids' in df['offspring']) or ('doesn&rsquo;t want any' in df['offspring']):\n",
    "        return 'does not want kids'\n",
    "    elif ('wants more' in df['offspring']):\n",
    "        return 'wants more'\n",
    "    elif ('might want more' in df['offspring']):\n",
    "        return 'might want more'\n",
    "    elif ('doesn&rsquo;t want more' in df['offspring']):\n",
    "        return 'does not want more'\n",
    "    else:\n",
    "        return 'No Response'\n",
    "df['wants_kids'] = df.apply(wants_kids, axis=1)\n",
    "\n",
    "print(df.info(), df.describe())"
   ]
  },
  {
   "cell_type": "markdown",
   "id": "35eb3786",
   "metadata": {},
   "source": [
    "## Demographics Analysis"
   ]
  },
  {
   "cell_type": "markdown",
   "id": "81e6e8d4",
   "metadata": {},
   "source": [
    "### Age"
   ]
  },
  {
   "cell_type": "code",
   "execution_count": 84,
   "id": "e48d4248",
   "metadata": {},
   "outputs": [
    {
     "data": {
      "image/png": "[encoded data removed]",
      "text/plain": [
       "<Figure size 432x288 with 1 Axes>"
      ]
     },
     "metadata": {
      "needs_background": "light"
     },
     "output_type": "display_data"
    }
   ],
   "source": [
    "#remove ages greater than or equal to 100\n",
    "df = df[df['age'] < 100]\n",
    "df = df[df['age'] > 18]\n",
    "#plot histogram of age distribution\n",
    "plt.hist(df['age'], bins = 5, edgecolor='black')\n",
    "\n",
    "plt.title('Age of Users')\n",
    "plt.xlabel('Age')\n",
    "plt.ylabel('Number of Users')\n",
    "\n",
    "plt.tight_layout()\n",
    "plt.show()"
   ]
  },
  {
   "cell_type": "markdown",
   "id": "26b78e21",
   "metadata": {},
   "source": [
    "Observation: It looks like the majority of users are between 20 and 40 years old."
   ]
  },
  {
   "cell_type": "markdown",
   "id": "6dc9aef2",
   "metadata": {},
   "source": [
    "### Gender"
   ]
  },
  {
   "cell_type": "code",
   "execution_count": 77,
   "id": "9c5b4003",
   "metadata": {},
   "outputs": [
    {
     "name": "stdout",
     "output_type": "stream",
     "text": [
      "Percentage of Male and Female Users\n",
      "m    59.758074\n",
      "f    40.241926\n",
      "Name: sex, dtype: float64\n"
     ]
    }
   ],
   "source": [
    "sex_percentage = df['sex'].value_counts(normalize=True)*100\n",
    "print('Percentage of Male and Female Users')\n",
    "print(sex_percentage)"
   ]
  },
  {
   "cell_type": "code",
   "execution_count": 78,
   "id": "97622eff",
   "metadata": {},
   "outputs": [
    {
     "data": {
      "text/plain": [
       "Text(0.5, 1.0, 'Number of Male and Female Users')"
      ]
     },
     "execution_count": 78,
     "metadata": {},
     "output_type": "execute_result"
    },
    {
     "data": {
      "image/png": "[encoded data removed]",
      "text/plain": [
       "<Figure size 432x288 with 1 Axes>"
      ]
     },
     "metadata": {
      "needs_background": "light"
     },
     "output_type": "display_data"
    }
   ],
   "source": [
    "sns.countplot(x='sex', data = df)\n",
    "plt.title('Number of Male and Female Users')"
   ]
  },
  {
   "cell_type": "markdown",
   "id": "94ffded2",
   "metadata": {},
   "source": [
    "Observation: There are more male users than female users."
   ]
  },
  {
   "cell_type": "code",
   "execution_count": 79,
   "id": "d1b50980",
   "metadata": {},
   "outputs": [
    {
     "data": {
      "text/plain": [
       "Text(0.5, 0.98, 'Age Distribution by Gender')"
      ]
     },
     "execution_count": 79,
     "metadata": {},
     "output_type": "execute_result"
    },
    {
     "data": {
      "image/png": "[encoded data removed]",
      "text/plain": [
       "<Figure size 432x216 with 2 Axes>"
      ]
     },
     "metadata": {
      "needs_background": "light"
     },
     "output_type": "display_data"
    }
   ],
   "source": [
    "sex_age = sns.FacetGrid(df, col=\"sex\")\n",
    "sex_age.map(sns.histplot, \"age\")\n",
    "sex_age.fig.subplots_adjust(top = 0.8)\n",
    "sex_age.fig.suptitle('Age Distribution by Gender')"
   ]
  },
  {
   "cell_type": "markdown",
   "id": "6fb7448a",
   "metadata": {},
   "source": [
    "Observation: The age distribution is the same for male and female"
   ]
  },
  {
   "cell_type": "markdown",
   "id": "bf6a1f08",
   "metadata": {},
   "source": [
    "### Sexual Orientation"
   ]
  },
  {
   "cell_type": "code",
   "execution_count": 80,
   "id": "a6b10279",
   "metadata": {},
   "outputs": [
    {
     "name": "stdout",
     "output_type": "stream",
     "text": [
      "Index(['straight', 'gay', 'bisexual'], dtype='object')\n"
     ]
    },
    {
     "data": {
      "image/png": "[encoded data removed]",
      "text/plain": [
       "<Figure size 432x288 with 1 Axes>"
      ]
     },
     "metadata": {},
     "output_type": "display_data"
    }
   ],
   "source": [
    "orientation_count = df['orientation'].value_counts()\n",
    "orientation_label = df['orientation'].value_counts().index\n",
    "print(orientation_label)\n",
    "plt.pie(orientation_count, labels = orientation_label, autopct = '%1.2f%%')\n",
    "plt.title('Sexual Orientation')\n",
    "plt.show()"
   ]
  },
  {
   "cell_type": "markdown",
   "id": "3847a9f6",
   "metadata": {},
   "source": [
    "Observation: The majority of this sample identifies as straight."
   ]
  },
  {
   "cell_type": "markdown",
   "id": "a6e2a48a",
   "metadata": {},
   "source": [
    "### Family Status"
   ]
  },
  {
   "cell_type": "code",
   "execution_count": 81,
   "id": "6efaba5a",
   "metadata": {},
   "outputs": [
    {
     "data": {
      "text/plain": [
       "Text(0.5, 1.0, 'Has Kids')"
      ]
     },
     "execution_count": 81,
     "metadata": {},
     "output_type": "execute_result"
    },
    {
     "data": {
      "image/png": "[encoded data removed]",
      "text/plain": [
       "<Figure size 432x288 with 1 Axes>"
      ]
     },
     "metadata": {
      "needs_background": "light"
     },
     "output_type": "display_data"
    }
   ],
   "source": [
    "sns.countplot(x='has_kids', data = df)\n",
    "plt.title('Has Kids')"
   ]
  },
  {
   "cell_type": "markdown",
   "id": "3f18a529",
   "metadata": {},
   "source": [
    "Observation: The majority of the users did not respond to this question. To visualize the distribution of the responses for users that did respond, all \"No Response\" values will be filtered below."
   ]
  },
  {
   "cell_type": "code",
   "execution_count": 183,
   "id": "359a4ed8",
   "metadata": {},
   "outputs": [
    {
     "name": "stdout",
     "output_type": "stream",
     "text": [
      "Index(['does not have kids', 'has kids', 'has a kid'], dtype='object')\n"
     ]
    },
    {
     "data": {
      "image/png": "[encoded data removed]",
      "text/plain": [
       "<Figure size 432x288 with 1 Axes>"
      ]
     },
     "metadata": {},
     "output_type": "display_data"
    }
   ],
   "source": [
    "#Filter out \"No Response\"\n",
    "df2 = df[df['has_kids'] != 'No Response']\n",
    "\n",
    "has_kids_count = df2['has_kids'].value_counts()\n",
    "has_kids_label = df2['has_kids'].value_counts().index\n",
    "print(has_kids_label)\n",
    "plt.pie(has_kids_count, labels = has_kids_label, autopct = '%1.2f%%')\n",
    "plt.title('Has Kids - \"No Responses\" Removed')\n",
    "plt.show()"
   ]
  },
  {
   "cell_type": "code",
   "execution_count": 185,
   "id": "306f8fe6",
   "metadata": {},
   "outputs": [
    {
     "data": {
      "text/plain": [
       "Text(0.5, 1.0, 'Wants Kids')"
      ]
     },
     "execution_count": 185,
     "metadata": {},
     "output_type": "execute_result"
    },
    {
     "data": {
      "image/png": "[encoded data removed]",
      "text/plain": [
       "<Figure size 432x288 with 1 Axes>"
      ]
     },
     "metadata": {
      "needs_background": "light"
     },
     "output_type": "display_data"
    }
   ],
   "source": [
    "sns.countplot(x='wants_kids', data = df)\n",
    "plt.xticks(rotation=90)\n",
    "plt.title('Wants Kids')"
   ]
  },
  {
   "cell_type": "markdown",
   "id": "ff39aecf",
   "metadata": {},
   "source": [
    "Observation: Again, most users did not respond. See below for distribution with \"No Response\" filtered out."
   ]
  },
  {
   "cell_type": "code",
   "execution_count": 186,
   "id": "d3a2f332",
   "metadata": {},
   "outputs": [
    {
     "data": {
      "text/plain": [
       "Text(0.5, 1.0, 'Wants Kids - \"No Responses\" Removed')"
      ]
     },
     "execution_count": 186,
     "metadata": {},
     "output_type": "execute_result"
    },
    {
     "data": {
      "image/png": "[encoded data removed]",
      "text/plain": [
       "<Figure size 432x288 with 1 Axes>"
      ]
     },
     "metadata": {
      "needs_background": "light"
     },
     "output_type": "display_data"
    }
   ],
   "source": [
    "df3 = df[df['wants_kids'] != 'No Response']\n",
    "\n",
    "sns.countplot(x='wants_kids', data = df3)\n",
    "plt.xticks(rotation=90)\n",
    "plt.title('Wants Kids - \"No Responses\" Removed')"
   ]
  },
  {
   "cell_type": "code",
   "execution_count": 201,
   "id": "449fd3c2",
   "metadata": {},
   "outputs": [
    {
     "data": {
      "text/plain": [
       "Text(0.5, 1.0, 'Has Kids - \"No Responses\" Removed')"
      ]
     },
     "execution_count": 201,
     "metadata": {},
     "output_type": "execute_result"
    },
    {
     "data": {
      "image/png": "[encoded data removed]",
      "text/plain": [
       "<Figure size 432x288 with 1 Axes>"
      ]
     },
     "metadata": {
      "needs_background": "light"
     },
     "output_type": "display_data"
    }
   ],
   "source": [
    "sns.countplot(x=df2['has_kids'], hue=df2['sex'], data=pd.melt(df2))\n",
    "plt.xticks(rotation=90)\n",
    "plt.title('Has Kids - \"No Responses\" Removed')"
   ]
  },
  {
   "cell_type": "code",
   "execution_count": 202,
   "id": "ebce4d19",
   "metadata": {},
   "outputs": [
    {
     "data": {
      "text/plain": [
       "Text(0.5, 1.0, 'Wants Kids - \"No Responses\" Removed')"
      ]
     },
     "execution_count": 202,
     "metadata": {},
     "output_type": "execute_result"
    },
    {
     "data": {
      "image/png": "[encoded data removed]",
      "text/plain": [
       "<Figure size 432x288 with 1 Axes>"
      ]
     },
     "metadata": {
      "needs_background": "light"
     },
     "output_type": "display_data"
    }
   ],
   "source": [
    "sns.countplot(x=df3['wants_kids'], hue=df3['sex'], data=pd.melt(df3))\n",
    "plt.xticks(rotation=90)\n",
    "plt.title('Wants Kids - \"No Responses\" Removed')"
   ]
  },
  {
   "cell_type": "markdown",
   "id": "2690bb50",
   "metadata": {},
   "source": [
    "Observation: When categorized by gender, there are more females that have kids, want kids, and don't want more kids than males."
   ]
  },
  {
   "cell_type": "markdown",
   "id": "2cf3b6d6",
   "metadata": {},
   "source": [
    "### Status"
   ]
  },
  {
   "cell_type": "code",
   "execution_count": 67,
   "id": "bbab68c4",
   "metadata": {},
   "outputs": [
    {
     "name": "stdout",
     "output_type": "stream",
     "text": [
      "Percent of Users by Status\n",
      "single            92.914543\n",
      "seeing someone     3.441651\n",
      "available          3.109181\n",
      "married            0.517918\n",
      "unknown            0.016707\n",
      "Name: status, dtype: float64\n"
     ]
    }
   ],
   "source": [
    "status_percentage = df['status'].value_counts(normalize=True)*100\n",
    "print(\"Percent of Users by Status\")\n",
    "print(status_percentage)"
   ]
  },
  {
   "cell_type": "markdown",
   "id": "23cf79ea",
   "metadata": {},
   "source": [
    "Observation: The majority of the sample set status to single."
   ]
  },
  {
   "cell_type": "markdown",
   "id": "615f1924",
   "metadata": {},
   "source": [
    "### Education Level"
   ]
  },
  {
   "cell_type": "code",
   "execution_count": 68,
   "id": "29031a2e",
   "metadata": {},
   "outputs": [
    {
     "name": "stdout",
     "output_type": "stream",
     "text": [
      "Percent of Users by Education Level\n",
      "graduated from college/university    44.947028\n",
      "graduated from masters program       16.813810\n",
      "working on college/university        10.710797\n",
      "working on masters program            3.148246\n",
      "graduated from two-year college       2.868360\n",
      "graduated from high school            2.678639\n",
      "graduated from ph.d program           2.383725\n",
      "graduated from law school             2.101961\n",
      "working on two-year college           2.013675\n",
      "dropped out of college/university     1.869036\n",
      "working on ph.d program               1.844616\n",
      "college/university                    1.502743\n",
      "graduated from space camp             1.234127\n",
      "dropped out of space camp             0.978661\n",
      "graduated from med school             0.837779\n",
      "working on space camp                 0.830265\n",
      "working on law school                 0.501540\n",
      "two-year college                      0.417011\n",
      "working on med school                 0.398227\n",
      "dropped out of two-year college       0.358780\n",
      "dropped out of masters program        0.261102\n",
      "masters program                       0.255466\n",
      "dropped out of ph.d program           0.238560\n",
      "dropped out of high school            0.191600\n",
      "high school                           0.180329\n",
      "working on high school                0.163423\n",
      "space camp                            0.108949\n",
      "ph.d program                          0.048839\n",
      "law school                            0.035690\n",
      "dropped out of law school             0.033812\n",
      "dropped out of med school             0.022541\n",
      "med school                            0.020663\n",
      "Name: education, dtype: float64\n"
     ]
    }
   ],
   "source": [
    "education_percentage = df['education'].value_counts(normalize=True)*100\n",
    "print(\"Percent of Users by Education Level\")\n",
    "print(education_percentage)"
   ]
  },
  {
   "cell_type": "markdown",
   "id": "eeaa5d21",
   "metadata": {},
   "source": [
    "Observation: 44% of users gradated from college/university."
   ]
  },
  {
   "cell_type": "markdown",
   "id": "f02fcb45",
   "metadata": {},
   "source": [
    "### Occupation"
   ]
  },
  {
   "cell_type": "code",
   "execution_count": 69,
   "id": "39d833aa",
   "metadata": {},
   "outputs": [
    {
     "name": "stdout",
     "output_type": "stream",
     "text": [
      "Percent of Users by Occupation\n",
      "other                                14.661429\n",
      "student                               9.432392\n",
      "science / tech / engineering          9.368529\n",
      "computer / hardware / software        9.091789\n",
      "artistic / musical / writer           8.573143\n",
      "sales / marketing / biz dev           8.489927\n",
      "medicine / health                     7.113967\n",
      "education / academia                  6.783039\n",
      "executive / management                4.590405\n",
      "banking / financial / real estate     4.383334\n",
      "entertainment / media                 4.348499\n",
      "law / legal services                  2.670640\n",
      "hospitality / travel                  2.637741\n",
      "construction / craftsmanship          1.975887\n",
      "clerical / administrative             1.557874\n",
      "political / government                1.362414\n",
      "rather not say                        0.843768\n",
      "transportation                        0.708300\n",
      "unemployed                            0.528322\n",
      "retired                               0.483812\n",
      "military                              0.394790\n",
      "Name: job, dtype: float64\n"
     ]
    }
   ],
   "source": [
    "occupation_percentage = df['job'].value_counts(normalize=True)*100\n",
    "print(\"Percent of Users by Occupation\")\n",
    "print(occupation_percentage)"
   ]
  },
  {
   "cell_type": "markdown",
   "id": "f7d18952",
   "metadata": {},
   "source": [
    "Observation: The majority of the users listed \"Other\" as their job title. The next biggest categories are student, science/tech/engineering, and computer/hardware/softare."
   ]
  },
  {
   "cell_type": "markdown",
   "id": "93e58aaa",
   "metadata": {},
   "source": [
    "### Race/Ethnicity"
   ]
  },
  {
   "cell_type": "code",
   "execution_count": 212,
   "id": "e5578a99",
   "metadata": {},
   "outputs": [
    {
     "data": {
      "text/plain": [
       "Text(0.5, 1.0, 'Race/Ethnicity')"
      ]
     },
     "execution_count": 212,
     "metadata": {},
     "output_type": "execute_result"
    },
    {
     "data": {
      "image/png": "[encoded data removed]",
      "text/plain": [
       "<Figure size 432x288 with 1 Axes>"
      ]
     },
     "metadata": {
      "needs_background": "light"
     },
     "output_type": "display_data"
    }
   ],
   "source": [
    "sns.countplot(x='race_ethnicity', data = df)\n",
    "plt.xticks(rotation=90)\n",
    "plt.title('Race/Ethnicity')"
   ]
  },
  {
   "cell_type": "markdown",
   "id": "b561f50a",
   "metadata": {},
   "source": [
    "Observation: The majority of the users are white."
   ]
  },
  {
   "cell_type": "markdown",
   "id": "69bde138",
   "metadata": {},
   "source": [
    "### Body Type"
   ]
  },
  {
   "cell_type": "code",
   "execution_count": 217,
   "id": "6597f42a",
   "metadata": {},
   "outputs": [
    {
     "data": {
      "text/plain": [
       "Text(0.5, 1.0, 'Body Type')"
      ]
     },
     "execution_count": 217,
     "metadata": {},
     "output_type": "execute_result"
    },
    {
     "data": {
      "image/png": "[encoded data removed]",
      "text/plain": [
       "<Figure size 432x288 with 1 Axes>"
      ]
     },
     "metadata": {
      "needs_background": "light"
     },
     "output_type": "display_data"
    }
   ],
   "source": [
    "sns.countplot(x='body_type', data = df)\n",
    "plt.xticks(rotation=90)\n",
    "plt.title('Body Type')"
   ]
  },
  {
   "cell_type": "markdown",
   "id": "4aa38b5f",
   "metadata": {},
   "source": [
    "Observation: The majority of the users listed their body type as average, fit, or athletic."
   ]
  },
  {
   "cell_type": "markdown",
   "id": "c5a23c96",
   "metadata": {},
   "source": [
    "## Physical Traits"
   ]
  },
  {
   "cell_type": "markdown",
   "id": "b401e171",
   "metadata": {},
   "source": [
    "### Body Type"
   ]
  },
  {
   "cell_type": "code",
   "execution_count": 219,
   "id": "d829c107",
   "metadata": {},
   "outputs": [
    {
     "data": {
      "text/plain": [
       "Text(0.5, 1.0, 'Wants Kids - \"No Responses\" Removed')"
      ]
     },
     "execution_count": 219,
     "metadata": {},
     "output_type": "execute_result"
    },
    {
     "data": {
      "image/png": "[encoded data removed]",
      "text/plain": [
       "<Figure size 432x288 with 1 Axes>"
      ]
     },
     "metadata": {
      "needs_background": "light"
     },
     "output_type": "display_data"
    }
   ],
   "source": [
    "sns.countplot(x=df3['body_type'], hue=df3['sex'], data=pd.melt(df3))\n",
    "plt.xticks(rotation=90)\n",
    "plt.title('Wants Kids - \"No Responses\" Removed')"
   ]
  },
  {
   "cell_type": "markdown",
   "id": "e6d4e964",
   "metadata": {},
   "source": [
    "Observation: More women identified as thin, curvy, or full figured than men."
   ]
  },
  {
   "cell_type": "markdown",
   "id": "d03c9805",
   "metadata": {},
   "source": [
    "### Height"
   ]
  },
  {
   "cell_type": "code",
   "execution_count": 231,
   "id": "7a06bbf8",
   "metadata": {},
   "outputs": [
    {
     "data": {
      "image/png": "[encoded data removed]",
      "text/plain": [
       "<Figure size 432x288 with 1 Axes>"
      ]
     },
     "metadata": {
      "needs_background": "light"
     },
     "output_type": "display_data"
    }
   ],
   "source": [
    "#remove ages greater than or equal to 100\n",
    "df = df[df['height'] >= 50]\n",
    "df = df[df['height'] <= 85]\n",
    "#plot histogram of age distribution\n",
    "plt.hist(df['height'], bins = 10, edgecolor='black')\n",
    "\n",
    "plt.title('Height of Users')\n",
    "plt.xlabel('Height (inches)')\n",
    "plt.ylabel('Number of Users')\n",
    "\n",
    "plt.tight_layout()\n",
    "plt.show()"
   ]
  },
  {
   "cell_type": "markdown",
   "id": "7df38ccc",
   "metadata": {},
   "source": [
    "Observation: Most users are between 65 and 75 inches tall."
   ]
  },
  {
   "cell_type": "markdown",
   "id": "06c93ed9",
   "metadata": {},
   "source": [
    "## Lifestyle Habits/Preferences"
   ]
  },
  {
   "cell_type": "markdown",
   "id": "ffdda785",
   "metadata": {},
   "source": [
    "## Diet"
   ]
  },
  {
   "cell_type": "code",
   "execution_count": 70,
   "id": "f06981b7",
   "metadata": {},
   "outputs": [
    {
     "name": "stdout",
     "output_type": "stream",
     "text": [
      "Percent of Users by Dietary Preferences\n",
      "mostly anything        46.660093\n",
      "anything               17.393999\n",
      "strictly anything      14.387942\n",
      "mostly vegetarian       9.685871\n",
      "mostly other            2.828567\n",
      "strictly vegetarian     2.462319\n",
      "vegetarian              1.873503\n",
      "strictly other          1.267784\n",
      "mostly vegan            0.943795\n",
      "other                   0.932526\n",
      "strictly vegan          0.639527\n",
      "vegan                   0.383153\n",
      "mostly kosher           0.242288\n",
      "mostly halal            0.135230\n",
      "strictly halal          0.050711\n",
      "strictly kosher         0.050711\n",
      "halal                   0.030990\n",
      "kosher                  0.030990\n",
      "Name: diet, dtype: float64\n"
     ]
    }
   ],
   "source": [
    "diet_percentage = df['diet'].value_counts(normalize=True)*100\n",
    "print(\"Percent of Users by Dietary Preferences\")\n",
    "print(diet_percentage)"
   ]
  },
  {
   "cell_type": "markdown",
   "id": "1c11787f",
   "metadata": {},
   "source": [
    "Observation: Most users chose \"mostly anything\" to identify their diet"
   ]
  },
  {
   "cell_type": "markdown",
   "id": "90aa3db3",
   "metadata": {},
   "source": [
    "### Alcohol Consumption"
   ]
  },
  {
   "cell_type": "code",
   "execution_count": 7,
   "id": "7d8c7095",
   "metadata": {},
   "outputs": [
    {
     "data": {
      "text/plain": [
       "Text(0.5, 1.0, 'Alcohol Consumption Responses')"
      ]
     },
     "execution_count": 7,
     "metadata": {},
     "output_type": "execute_result"
    },
    {
     "data": {
      "image/png": "[encoded data removed]",
      "text/plain": [
       "<Figure size 432x288 with 1 Axes>"
      ]
     },
     "metadata": {
      "needs_background": "light"
     },
     "output_type": "display_data"
    }
   ],
   "source": [
    "sns.countplot(x='drinks', data = df)\n",
    "plt.xticks(rotation=90)\n",
    "plt.title('Alcohol Consumption Responses')"
   ]
  },
  {
   "cell_type": "code",
   "execution_count": 13,
   "id": "beddfea8",
   "metadata": {},
   "outputs": [
    {
     "data": {
      "text/plain": [
       "Text(0.5, 1.0, 'Alcohol - Male and Female')"
      ]
     },
     "execution_count": 13,
     "metadata": {},
     "output_type": "execute_result"
    },
    {
     "data": {
      "image/png": "[encoded data removed]",
      "text/plain": [
       "<Figure size 432x288 with 1 Axes>"
      ]
     },
     "metadata": {
      "needs_background": "light"
     },
     "output_type": "display_data"
    }
   ],
   "source": [
    "sns.countplot(x=df['drinks'], hue=df['sex'], data=pd.melt(df3))\n",
    "plt.xticks(rotation=90)\n",
    "plt.title('Alcohol - Male and Female')"
   ]
  },
  {
   "cell_type": "markdown",
   "id": "9bb4763f",
   "metadata": {},
   "source": [
    "Observation: Most users drink socially."
   ]
  },
  {
   "cell_type": "markdown",
   "id": "6f606c9b",
   "metadata": {},
   "source": [
    "### Smoking"
   ]
  },
  {
   "cell_type": "code",
   "execution_count": 28,
   "id": "764a4b5f",
   "metadata": {},
   "outputs": [
    {
     "data": {
      "text/plain": [
       "Text(0.5, 1.0, 'Smoking Habits')"
      ]
     },
     "execution_count": 28,
     "metadata": {},
     "output_type": "execute_result"
    },
    {
     "data": {
      "image/png": "[encoded data removed]",
      "text/plain": [
       "<Figure size 432x288 with 1 Axes>"
      ]
     },
     "metadata": {
      "needs_background": "light"
     },
     "output_type": "display_data"
    }
   ],
   "source": [
    "sns.countplot(x='smokes', data = df)\n",
    "plt.xticks(rotation=90)\n",
    "plt.title('Smoking Habits')"
   ]
  },
  {
   "cell_type": "code",
   "execution_count": 29,
   "id": "3226d0e0",
   "metadata": {},
   "outputs": [
    {
     "data": {
      "text/plain": [
       "Text(0.5, 1.0, 'Smoking Habits - Male and Female')"
      ]
     },
     "execution_count": 29,
     "metadata": {},
     "output_type": "execute_result"
    },
    {
     "data": {
      "image/png": "[encoded data removed]",
      "text/plain": [
       "<Figure size 432x288 with 1 Axes>"
      ]
     },
     "metadata": {
      "needs_background": "light"
     },
     "output_type": "display_data"
    }
   ],
   "source": [
    "sns.countplot(x=df['smokes'], hue=df['sex'], data=pd.melt(df3))\n",
    "plt.xticks(rotation=90)\n",
    "plt.title('Smoking Habits - Male and Female')"
   ]
  },
  {
   "cell_type": "markdown",
   "id": "024a2099",
   "metadata": {},
   "source": [
    "Observation: The majority of users do not smoke."
   ]
  },
  {
   "cell_type": "markdown",
   "id": "a36fd84f",
   "metadata": {},
   "source": [
    "### Pets"
   ]
  },
  {
   "cell_type": "code",
   "execution_count": 25,
   "id": "b5cd3edc",
   "metadata": {},
   "outputs": [
    {
     "data": {
      "text/plain": [
       "Text(0.5, 1.0, 'Pet Owners')"
      ]
     },
     "execution_count": 25,
     "metadata": {},
     "output_type": "execute_result"
    },
    {
     "data": {
      "image/png": "[encoded data removed]",
      "text/plain": [
       "<Figure size 432x288 with 1 Axes>"
      ]
     },
     "metadata": {
      "needs_background": "light"
     },
     "output_type": "display_data"
    }
   ],
   "source": [
    "sns.countplot(x='has_pets', data = df)\n",
    "plt.xticks(rotation=90)\n",
    "plt.title('Pet Owners')"
   ]
  },
  {
   "cell_type": "markdown",
   "id": "05e3a269",
   "metadata": {},
   "source": [
    "Observation: The majority of users do not have pets or did not respond."
   ]
  },
  {
   "cell_type": "markdown",
   "id": "1a5479dc",
   "metadata": {},
   "source": [
    "### Feelings About Pets"
   ]
  },
  {
   "cell_type": "code",
   "execution_count": 27,
   "id": "7f419f04",
   "metadata": {},
   "outputs": [
    {
     "data": {
      "text/plain": [
       "Text(0.5, 1.0, 'User Feelings About Pets')"
      ]
     },
     "execution_count": 27,
     "metadata": {},
     "output_type": "execute_result"
    },
    {
     "data": {
      "image/png": "[encoded data removed]",
      "text/plain": [
       "<Figure size 432x288 with 1 Axes>"
      ]
     },
     "metadata": {
      "needs_background": "light"
     },
     "output_type": "display_data"
    }
   ],
   "source": [
    "sns.countplot(x='likes_pets', data = df)\n",
    "plt.xticks(rotation=90)\n",
    "plt.title('User Feelings About Pets')"
   ]
  },
  {
   "cell_type": "markdown",
   "id": "9155d92e",
   "metadata": {},
   "source": [
    "Observation: Most users did not include their feelings about pets in their response. Of those users that did, most of them like dogs and cats"
   ]
  },
  {
   "cell_type": "markdown",
   "id": "acf1ffcf",
   "metadata": {},
   "source": [
    "## Belief System"
   ]
  },
  {
   "cell_type": "markdown",
   "id": "815841ee",
   "metadata": {},
   "source": [
    "### Religion"
   ]
  },
  {
   "cell_type": "code",
   "execution_count": 73,
   "id": "40f04497",
   "metadata": {},
   "outputs": [
    {
     "name": "stdout",
     "output_type": "stream",
     "text": [
      "Percent of Users by Religious Affiliation\n",
      "agnosticism     22.189446\n",
      "other           19.494239\n",
      "atheism         17.575574\n",
      "christianity    14.580339\n",
      "catholicism     11.980939\n",
      "judaism          7.798200\n",
      "buddhism         4.898772\n",
      "hinduism         1.132037\n",
      "islam            0.350453\n",
      "Name: rel_name, dtype: float64\n"
     ]
    }
   ],
   "source": [
    "religion_percentage = df['rel_name'].value_counts(normalize=True)*100\n",
    "print(\"Percent of Users by Religious Affiliation\")\n",
    "print(religion_percentage)"
   ]
  },
  {
   "cell_type": "code",
   "execution_count": 72,
   "id": "89f4fbbe",
   "metadata": {},
   "outputs": [
    {
     "name": "stdout",
     "output_type": "stream",
     "text": [
      "Percent of Users by Religious Affiliation and Sentiment\n"
     ]
    },
    {
     "data": {
      "text/html": [
       "<div>\n",
       "<style scoped>\n",
       "    .dataframe tbody tr th:only-of-type {\n",
       "        vertical-align: middle;\n",
       "    }\n",
       "\n",
       "    .dataframe tbody tr th {\n",
       "        vertical-align: top;\n",
       "    }\n",
       "\n",
       "    .dataframe thead th {\n",
       "        text-align: right;\n",
       "    }\n",
       "</style>\n",
       "<table border=\"1\" class=\"dataframe\">\n",
       "  <thead>\n",
       "    <tr style=\"text-align: right;\">\n",
       "      <th>rel_description</th>\n",
       "      <th>laughing about it</th>\n",
       "      <th>not too serious about it</th>\n",
       "      <th>somewhat serious about it</th>\n",
       "      <th>very serious about it</th>\n",
       "    </tr>\n",
       "    <tr>\n",
       "      <th>rel_name</th>\n",
       "      <th></th>\n",
       "      <th></th>\n",
       "      <th></th>\n",
       "      <th></th>\n",
       "    </tr>\n",
       "  </thead>\n",
       "  <tbody>\n",
       "    <tr>\n",
       "      <th>agnosticism</th>\n",
       "      <td>27.751196</td>\n",
       "      <td>21.586156</td>\n",
       "      <td>14.247670</td>\n",
       "      <td>14.188884</td>\n",
       "    </tr>\n",
       "    <tr>\n",
       "      <th>atheism</th>\n",
       "      <td>23.033270</td>\n",
       "      <td>10.784877</td>\n",
       "      <td>18.797159</td>\n",
       "      <td>25.666516</td>\n",
       "    </tr>\n",
       "    <tr>\n",
       "      <th>buddhism</th>\n",
       "      <td>5.185268</td>\n",
       "      <td>5.314525</td>\n",
       "      <td>7.922770</td>\n",
       "      <td>3.163127</td>\n",
       "    </tr>\n",
       "    <tr>\n",
       "      <th>catholicism</th>\n",
       "      <td>8.067208</td>\n",
       "      <td>18.978102</td>\n",
       "      <td>12.139370</td>\n",
       "      <td>4.609128</td>\n",
       "    </tr>\n",
       "    <tr>\n",
       "      <th>christianity</th>\n",
       "      <td>4.139312</td>\n",
       "      <td>16.009186</td>\n",
       "      <td>20.505992</td>\n",
       "      <td>26.118391</td>\n",
       "    </tr>\n",
       "    <tr>\n",
       "      <th>hinduism</th>\n",
       "      <td>0.489596</td>\n",
       "      <td>1.853523</td>\n",
       "      <td>1.287173</td>\n",
       "      <td>0.632625</td>\n",
       "    </tr>\n",
       "    <tr>\n",
       "      <th>islam</th>\n",
       "      <td>0.178035</td>\n",
       "      <td>0.328057</td>\n",
       "      <td>0.488238</td>\n",
       "      <td>0.587438</td>\n",
       "    </tr>\n",
       "    <tr>\n",
       "      <th>judaism</th>\n",
       "      <td>7.577612</td>\n",
       "      <td>12.408759</td>\n",
       "      <td>5.903240</td>\n",
       "      <td>0.994126</td>\n",
       "    </tr>\n",
       "    <tr>\n",
       "      <th>other</th>\n",
       "      <td>23.578502</td>\n",
       "      <td>12.736816</td>\n",
       "      <td>18.708389</td>\n",
       "      <td>24.039765</td>\n",
       "    </tr>\n",
       "  </tbody>\n",
       "</table>\n",
       "</div>"
      ],
      "text/plain": [
       "rel_description  laughing about it  not too serious about it  \\\n",
       "rel_name                                                       \n",
       "agnosticism              27.751196                 21.586156   \n",
       "atheism                  23.033270                 10.784877   \n",
       "buddhism                  5.185268                  5.314525   \n",
       "catholicism               8.067208                 18.978102   \n",
       "christianity              4.139312                 16.009186   \n",
       "hinduism                  0.489596                  1.853523   \n",
       "islam                     0.178035                  0.328057   \n",
       "judaism                   7.577612                 12.408759   \n",
       "other                    23.578502                 12.736816   \n",
       "\n",
       "rel_description  somewhat serious about it  very serious about it  \n",
       "rel_name                                                           \n",
       "agnosticism                      14.247670              14.188884  \n",
       "atheism                          18.797159              25.666516  \n",
       "buddhism                          7.922770               3.163127  \n",
       "catholicism                      12.139370               4.609128  \n",
       "christianity                     20.505992              26.118391  \n",
       "hinduism                          1.287173               0.632625  \n",
       "islam                             0.488238               0.587438  \n",
       "judaism                           5.903240               0.994126  \n",
       "other                            18.708389              24.039765  "
      ]
     },
     "execution_count": 72,
     "metadata": {},
     "output_type": "execute_result"
    }
   ],
   "source": [
    "print(\"Percent of Users by Religious Affiliation and Sentiment\")\n",
    "df.groupby(['rel_name', 'rel_description']).size().unstack(fill_value=0).apply(lambda x: 100 * x / float(x.sum()))"
   ]
  },
  {
   "cell_type": "markdown",
   "id": "94ee5c84",
   "metadata": {},
   "source": [
    "Percentages listed above identify user sentiment about their religious beliefs. The numbers in the table are percentages. \n",
    "Observation: It may be more useful to find the percent of the row. This can be done more easily in Tableau."
   ]
  },
  {
   "cell_type": "markdown",
   "id": "d153593a",
   "metadata": {},
   "source": [
    "### Zodiac Sign"
   ]
  },
  {
   "cell_type": "code",
   "execution_count": 74,
   "id": "132df452",
   "metadata": {},
   "outputs": [
    {
     "name": "stdout",
     "output_type": "stream",
     "text": [
      "Percent of Users by Zodiac Sign\n",
      "leo            8.945471\n",
      "gemini         8.818469\n",
      "libra          8.605432\n",
      "cancer         8.603384\n",
      "virgo          8.474333\n",
      "taurus         8.472285\n",
      "scorpio        8.453849\n",
      "aries          8.152731\n",
      "pisces         8.068745\n",
      "sagittarius    8.062600\n",
      "aquarius       8.035970\n",
      "capricorn      7.306731\n",
      "Name: sign_name, dtype: float64\n"
     ]
    }
   ],
   "source": [
    "sign_name_percentage = df['sign_name'].value_counts(normalize=True)*100\n",
    "print(\"Percent of Users by Zodiac Sign\")\n",
    "print(sign_name_percentage)"
   ]
  },
  {
   "cell_type": "markdown",
   "id": "38b64480",
   "metadata": {},
   "source": [
    "Observation: There is an even distribution of signs represented in the users."
   ]
  },
  {
   "cell_type": "code",
   "execution_count": 63,
   "id": "9a58d40d",
   "metadata": {},
   "outputs": [
    {
     "data": {
      "image/png": "[encoded data removed]",
      "text/plain": [
       "<Figure size 432x288 with 1 Axes>"
      ]
     },
     "metadata": {},
     "output_type": "display_data"
    }
   ],
   "source": [
    "sign_description_count = df['sign_description'].value_counts()\n",
    "sign_description_label = df['sign_description'].value_counts().index\n",
    "plt.pie(sign_description_count, labels = sign_description_label, autopct = '%1.2f%%')\n",
    "plt.title('Zodiac Sign Importance')\n",
    "plt.show()"
   ]
  },
  {
   "cell_type": "markdown",
   "id": "c663adcd",
   "metadata": {},
   "source": [
    "Observation: Most users think their zodiac sign is \"fun to think about\" or \"doesn't matter\""
   ]
  },
  {
   "cell_type": "markdown",
   "id": "12981a98",
   "metadata": {},
   "source": [
    "## Notes and Observations\n",
    "* When comparing responses by gender, it may be useful to normalize the data since there are more males than females in this sample.\n",
    "* For this analysis, comparing the demographics of the users to the total state demographics would provide more insight for marketing than exploring correlations between variables."
   ]
  }
 ],
 "metadata": {
  "kernelspec": {
   "display_name": "Python 3",
   "language": "python",
   "name": "python3"
  },
  "language_info": {
   "codemirror_mode": {
    "name": "ipython",
    "version": 3
   },
   "file_extension": ".py",
   "mimetype": "text/x-python",
   "name": "python",
   "nbconvert_exporter": "python",
   "pygments_lexer": "ipython3",
   "version": "3.8.8"
  }
 },
 "nbformat": 4,
 "nbformat_minor": 5
}
